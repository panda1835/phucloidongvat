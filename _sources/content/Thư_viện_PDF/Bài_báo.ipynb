{
 "cells": [
  {
   "cell_type": "markdown",
   "metadata": {},
   "source": [
    "# Bài báo"
   ]
  },
  {
   "cell_type": "markdown",
   "metadata": {},
   "source": [
    "||||\n",
    "|:-:|:-:|:-:|\n",
    "|![img](../../media/Thu_vien_PDF/Bai_bao/001.png)|![img](../../media/Thu_vien_PDF/Bai_bao/002.png)|![img](../../media/Thu_vien_PDF/Bai_bao/003.png)|\n",
    "|Assessment of Welfare in Zoo Animals: Towards Optimum Quality of Life|Behaviour-Based Husbandry—A Holistic Approach to the Management of Abnormal Repetitive Behaviors|The 24/7 approach to promoting optimal welfare for captive wild animals|\n",
    "|1-sentence summary|1-sentence summary|1-sentence summary|\n",
    "|[![Tải tài liệu](../../media/icons/download_icon.png)](https://drive.google.com/file/d/1l0HZpDocDDSK_PvuEq9W4_aDGsRTUvJl/view?usp=sharing) <br> [![Truy cập trang web](../../media/icons/open_website_icon.png)](https://www.mdpi.com/2076-2615/8/7/110)|[![Tải tài liệu](../../media/icons/download_icon.png)](https://drive.google.com/file/d/1AtVRJ8Nm9pJxvyfnrvbwd8AdMv5yN5Xz/view?usp=sharing) <br> [![Truy cập trang web](../../media/icons/open_website_icon.png)](https://www.mdpi.com/2076-2615/8/7/103)|[![Tải tài liệu](../../media/icons/download_icon.png)](https://drive.google.com/file/d/1H-9yBhPUM-S-UJ06FdblcFg0MxEwpqAv/view?usp=sharing) <br> [![Truy cập trang web](../../media/icons/open_website_icon.png)](https://www.sciencedirect.com/science/article/abs/pii/S037663571730428X)|\n",
    "||||\n",
    "|![img](../../media/Thu_vien_PDF/Bai_bao/004.png)|![img](../../media/Thu_vien_PDF/Bai_bao/005.png)|![img](../../media/Thu_vien_PDF/Bai_bao/006.png)|\n",
    "|Development of a behavioural welfare assessment tool for routine use with captive elephants|Ethical Theories|“Feelings and Fitness” Not “Feelings or Fitness”–The Raison d'être of Conservation Welfare, Which Aligns Conservation and Animal Welfare Objectives|\n",
    "|1-sentence summary|1-sentence summary|1-sentence summary|\n",
    "|[![Tải tài liệu](../../media/icons/download_icon.png)](https://drive.google.com/file/d/1VTRZUbs9rwNY1jJmi9NXUyNF0kVy1Mtp/view?usp=sharing) <br> [![Truy cập trang web](../../media/icons/open_website_icon.png)](https://journals.plos.org/plosone/article?id=10.1371/journal.pone.0210783)|[![Tải tài liệu](../../media/icons/download_icon.png)](https://drive.google.com/file/d/1gOqHsZVrvA9NqjVmAkrMuSp45TNkmJVJ/view?usp=sharing) <br> [![Truy cập trang web](../../media/icons/open_website_icon.png)](https://www.dsef.org/wp-content/uploads/2012/07/EthicalTheories.pdf)|[![Tải tài liệu](../../media/icons/download_icon.png)](https://drive.google.com/file/d/1UM8EXGTWvoZwB7-2cLAfd5jmup__QTPE/view?usp=sharing) <br> [![Truy cập trang web](../../media/icons/open_website_icon.png)](https://www.frontiersin.org/articles/10.3389/fvets.2018.00296/full)|\n",
    "||||\n"
   ]
  },
  {
   "cell_type": "markdown",
   "metadata": {},
   "source": []
  }
 ],
 "metadata": {
  "kernelspec": {
   "display_name": "Python 3.9.5 ('base')",
   "language": "python",
   "name": "python3"
  },
  "language_info": {
   "name": "python",
   "version": "3.9.5"
  },
  "orig_nbformat": 4,
  "vscode": {
   "interpreter": {
    "hash": "c96c929cd44cbfb83c61d0a24797df5d65008c381a130fe7ec7b20b72344b911"
   }
  }
 },
 "nbformat": 4,
 "nbformat_minor": 2
}
